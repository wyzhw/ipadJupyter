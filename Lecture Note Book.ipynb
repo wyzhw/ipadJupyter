{
 "cells": [
  {
   "cell_type": "code",
   "execution_count": 279,
   "id": "1d52dc22",
   "metadata": {},
   "outputs": [
    {
     "name": "stdout",
     "output_type": "stream",
     "text": [
      "asdasfagnafjasjfoasfpof apple petter apple apple\n",
      "\n",
      "\n",
      "\n",
      "\n",
      "asdasfagnafjasjfoasfpof\n",
      "apple\n",
      "petter\n",
      "apple\n",
      "apple\n",
      "['a', 's', 'd', 'a', 's', 'f', 'a', 'g', 'n', 'a', 'f', 'j', 'a', 's', 'j', 'f', 'o', 'a', 's', 'f', 'p', 'o', 'f']\n",
      "['a', 'p', 'p', 'l', 'e']\n",
      "['p', 'e', 't', 't', 'e', 'r']\n",
      "['a', 'p', 'p', 'l', 'e']\n",
      "['a', 'p', 'p', 'l', 'e']\n"
     ]
    }
   ],
   "source": [
    "####### L-3 HOW to export the file ########\n",
    "\n",
    "## open file\n",
    "with open('sample.txt' ,'r' )as FILE:\n",
    "    text=FILE.read()\n",
    "print (text) # the same as txt parargraph \n",
    "\n",
    "for ch in ',./ ':\n",
    "    text=text.replace(ch,' ') \n",
    "text=text.split( ) \n",
    "#print (text) ## parargraph (words list)\n",
    "#print(text[0]) # the first word\n",
    "\n",
    "## make it char by char\n",
    "#for x in text:\n",
    "    # print(x) # a word\n",
    "#    for y in list(x):\n",
    "#        print(y,end=\" \") # a char without[]\n",
    "#        print(list(y)) # ['cha']\n",
    "        "
   ]
  },
  {
   "cell_type": "code",
   "execution_count": 4,
   "id": "094b407f",
   "metadata": {},
   "outputs": [
    {
     "name": "stdout",
     "output_type": "stream",
     "text": [
      "maozhu gajf\n"
     ]
    }
   ],
   "source": [
    "## let it export as a txt File\n",
    "\n",
    "with open('writing.txt','w') as File:\n",
    "    text=input()\n",
    "    File.write(text)\n",
    "File.close()\n",
    "\n",
    "\n",
    "## 当对象为list时候：\n",
    "\n",
    "x=['asd','asasd']\n",
    "with open('writing.txt','w') as outputfile:\n",
    "    for b in list(x):\n",
    "        outputfile.write(b)        \n",
    "outputfile.close()"
   ]
  },
  {
   "cell_type": "code",
   "execution_count": null,
   "id": "a9620a2a",
   "metadata": {},
   "outputs": [],
   "source": [
    "## or you can read csv file with:\n",
    "import csv\n",
    "text=[]\n",
    "with open ('sample.txt','r') as FILE:\n",
    "    csvreader= csv.reader(FILE)         ### csv.reader moledual\n",
    "    for row in csvreader:               ## line by line (list)\n",
    "        for word in row:\n",
    "            text.append(word)           ## word by word (list)\n",
    "            for cha in word:\n",
    "                text.append(cha)        ## char by char\n",
    "FILE.close()\n",
    "\n",
    "#print (text)"
   ]
  },
  {
   "cell_type": "code",
   "execution_count": 1,
   "id": "d1fd163f",
   "metadata": {},
   "outputs": [
    {
     "name": "stdout",
     "output_type": "stream",
     "text": [
      "请输入一个数字100\n",
      "数字从1到100相加为5050\n"
     ]
    }
   ],
   "source": [
    "#Task-1 让用户输入N，相加1到N\n",
    "\n",
    "N=int(input(\"请输入一个数字：\"))\n",
    "i=1\n",
    "sum=0\n",
    "\n",
    "while i<=N: #用while instead of if；需要循环。\n",
    "    sum=sum+i\n",
    "    i=i+1\n",
    "print(\"数字从1到\"+str(N)+\"相加为\"+str(sum))\n",
    "\n",
    "#Task-2 \n",
    "\n",
    "def fun():\n",
    "    a=10\n",
    "    print(a)\n",
    "    return a+100\n",
    "print (fun())"
   ]
  },
  {
   "cell_type": "code",
   "execution_count": 8,
   "id": "e4c898a5",
   "metadata": {},
   "outputs": [
    {
     "name": "stdout",
     "output_type": "stream",
     "text": [
      "Enter # of slices of spam followed by # of eggs: 1,2\n",
      "You ordered 2 eggs and 1 slices of spam. Yum!\n"
     ]
    }
   ],
   "source": [
    "##同时定义连续输入变量，逗号隔开\n",
    "\n",
    "\n",
    "def spamneggs():\n",
    "    spam, eggs = eval(input(\"Enter # of slices of spam followed by # of eggs: \"))\n",
    "    print (\"You ordered\", eggs, \"eggs and\", spam, \"slices of spam. Yum!\")\n",
    "spamneggs()"
   ]
  },
  {
   "cell_type": "code",
   "execution_count": 3,
   "id": "72c34fd6",
   "metadata": {},
   "outputs": [
    {
     "ename": "SyntaxError",
     "evalue": "invalid syntax (<ipython-input-3-3c2a70a473f4>, line 12)",
     "output_type": "error",
     "traceback": [
      "\u001b[1;36m  File \u001b[1;32m\"<ipython-input-3-3c2a70a473f4>\"\u001b[1;36m, line \u001b[1;32m12\u001b[0m\n\u001b[1;33m    //;./mm(\"\")\u001b[0m\n\u001b[1;37m    ^\u001b[0m\n\u001b[1;31mSyntaxError\u001b[0m\u001b[1;31m:\u001b[0m invalid syntax\n"
     ]
    }
   ],
   "source": [
    "class Point:\n",
    "    x=0;\n",
    "    y=0;\n",
    "    def setx(self,x1):\n",
    "        self.x=x1\n",
    "    def sety(self,y1):\n",
    "        self.y=y1\n",
    "    def getx(self):\n",
    "        return self.x\n",
    "    def gety(self):\n",
    "        return self.x\n",
    "    ;//;./mm"
   ]
  },
  {
   "cell_type": "code",
   "execution_count": null,
   "id": "561b2d86",
   "metadata": {},
   "outputs": [],
   "source": [
    "###### L-8 ########## Dictionary"
   ]
  },
  {
   "cell_type": "code",
   "execution_count": 100,
   "id": "1f63cd34",
   "metadata": {},
   "outputs": [
    {
     "name": "stdout",
     "output_type": "stream",
     "text": [
      "{'account': 'password'}\n",
      "password\n",
      "dict_keys(['account'])\n",
      "<built-in method items of dict object at 0x000001E2E508B780>\n",
      "Not av\n"
     ]
    }
   ],
   "source": [
    "## creat a dictionary\n",
    "\n",
    "passwd = {}\n",
    "for line in open('password.txt', 'r'):\n",
    "    user,mima = line.split( )\n",
    "    passwd[user] = mima                    ## define dic<passwd>\n",
    "print(passwd)\n",
    "print(passwd[\"account\"]) \n",
    "print(passwd.keys())                       ## must be .keys()\n",
    "print(passwd.items)\n",
    "print(passwd.get(\"account10000\",\"Not av\")) ## if not, return 'notav'   "
   ]
  },
  {
   "cell_type": "code",
   "execution_count": 272,
   "id": "d28fb437",
   "metadata": {},
   "outputs": [
    {
     "name": "stdout",
     "output_type": "stream",
     "text": [
      "[('a', 9), ('d', 1), ('e', 5), ('f', 5), ('g', 1), ('j', 2), ('l', 3), ('n', 1), ('o', 2), ('p', 8), ('r', 1), ('s', 4), ('t', 2)]\n",
      "[('d', 1), ('g', 1), ('n', 1)]\n",
      "d                  1\n",
      "g                  1\n",
      "n                  1\n",
      "r                  1\n",
      "j                  2\n",
      "o                  2\n",
      "t                  2\n",
      "l                  3\n"
     ]
    }
   ],
   "source": [
    "##Counting Function\n",
    "\n",
    "with open(\"sample.txt\",'r') as inputfile:\n",
    "    para=inputfile.read()\n",
    "\n",
    "inputfile.close()\n",
    "#print(para)\n",
    "\n",
    "for ch in ' ,./-=\\[]{}:\"\"<>?!@#$%^&*()_+':\n",
    "    para=para.replace(ch,' ')\n",
    "#print(para)\n",
    "#print(para.split( ))                        ## 必须 para =para.split()\n",
    "\n",
    "para =para.split()\n",
    "counts={}                                   ## 必须{} instead of []\n",
    " \n",
    "for word in para:\n",
    "    words=list(word)\n",
    "    for cha in words:\n",
    "        chas=list(cha)\n",
    "        #print(chas)\n",
    "        counts[cha]=counts.get(cha,0)+1\n",
    "#print(counts)\n",
    "\n",
    "\n",
    "## add counts.items() Function\n",
    "\n",
    "items=list(counts.items())\n",
    "items.sort()\n",
    "print(items)\n",
    "\n",
    "\n",
    "######## why we define this function? what it means?\n",
    "def x(pair):\n",
    "    return pair[1]\n",
    "items.sort(key=len,reverse=True)    ## key 对每一个函数调用\n",
    "items.sort(key=lambda x:x[1])       ## lambda = a function for short\n",
    "print(items[:3])\n",
    "\n",
    "\n",
    "\n",
    "uk=list(counts.keys())   ### keys！ &  make UK as a LIST or it can not be sort\n",
    "#print(uk)\n",
    "\n",
    "\n",
    "## 打印前八\n",
    "for i in range(8):\n",
    "    word, count = items[i]\n",
    "    print(\"{0:<15}{1:>5}\".format(word, count))    ##字母左对齐共计15空格到右边；数字右对齐并留左边空格5格，中间一共20空"
   ]
  },
  {
   "cell_type": "code",
   "execution_count": null,
   "id": "48f44888",
   "metadata": {},
   "outputs": [],
   "source": [
    "######### L-9 Fuction ############"
   ]
  },
  {
   "cell_type": "code",
   "execution_count": 2,
   "id": "b706f4dd",
   "metadata": {},
   "outputs": [
    {
     "name": "stdout",
     "output_type": "stream",
     "text": [
      "Enter a number (<Enter> to quit) >> 1\n",
      "Enter a number (<Enter> to quit) >> 2\n",
      "Enter a number (<Enter> to quit) >> 3\n",
      "Enter a number (<Enter> to quit) >> 4\n",
      "Enter a number (<Enter> to quit) >> 5\n",
      "Enter a number (<Enter> to quit) >> \n",
      "\n",
      "The average of the numbers is 3.0\n"
     ]
    }
   ],
   "source": [
    "###计算一系列输入数字的mean\n",
    "\n",
    "def main():\n",
    "    sum = 0.0\n",
    "    count = 0\n",
    "    xStr = input(\"Enter a number (<Enter> to quit) >> \")\n",
    "    while xStr != \"\":\n",
    "        x = float(xStr)\n",
    "        sum = sum + x\n",
    "        count = count + 1\n",
    "        xStr = input(\"Enter a number (<Enter> to quit) >> \")\n",
    "    print(\"\\nThe average of the numbers is\", sum / count)\n",
    "\n",
    "main()"
   ]
  },
  {
   "cell_type": "code",
   "execution_count": null,
   "id": "1d1fb0fd",
   "metadata": {},
   "outputs": [],
   "source": [
    "#Assignment 1, Question 4\n",
    "\n",
    "input_int_list = []\n",
    "input_float_list=[]\n",
    "##int_list 储存输入的Credit\n",
    "##float_list 储存输入的Grade point\n",
    "\n",
    "while(input_int_list != -1):\n",
    "    s = int(input(\"Please enter a credit (enter -1 to stop):\"))##令输入Credit值,记为s\n",
    "    if(s != -1):\n",
    "        input_int_list.append(s) \n",
    "        g = float(input(\"Please enter in a GP (enter a native number or zero to stop):\"))\n",
    "##IF s is not -1，put s into the int_list，and let user input Grade Point as g.\n",
    "        if (g >=0 ):\n",
    "            g=g*s\n",
    "            input_float_list.append(g)\n",
    "##IF g is greater than/eqal to 0, calculate the prat of molecular and put it into the float_list.\n",
    "        else:\n",
    "            break\n",
    "    else:\n",
    "        break\n",
    "        \n",
    "        \n",
    "credit=0\n",
    "for s in input_int_list:\n",
    "    credit+=s\n",
    "## 连续取Credit列表中的value累加\n",
    "\n",
    "CGP=0\n",
    "for g in input_float_list:\n",
    "    CGP+=g\n",
    "    \n",
    "##连续取CGP=GP*Credit的value累加\n",
    "\n",
    "\n",
    "gpa= CGP/credit\n",
    "txt = \"Your GPA is calculated as {:.2f} \"\n",
    "\n",
    "print(txt.format(gpa))"
   ]
  },
  {
   "cell_type": "code",
   "execution_count": null,
   "id": "b0e97a22",
   "metadata": {},
   "outputs": [],
   "source": [
    "input_int_list = []\n",
    "input_float_list=[]\n",
    "sum1=0\n",
    "sum2=0\n",
    "\n",
    "while(input_int_list != -1):\n",
    "    s = int(input(\"Please enter a credit (enter -1 to stop):\"))\n",
    "    \n",
    "    if(s != -1):\n",
    "        sum1+=s\n",
    "        g = float(input(\"Please enter in a GP (enter a native number or zero to stop):\"))\n",
    "\n",
    "        if (g >=0 ):\n",
    "            g=\n",
    "\n",
    "        else:\n",
    "            break\n",
    "    else:\n",
    "        break"
   ]
  },
  {
   "cell_type": "code",
   "execution_count": 13,
   "id": "219e4d48",
   "metadata": {},
   "outputs": [
    {
     "name": "stdout",
     "output_type": "stream",
     "text": [
      "Enter a number: 1\n",
      "Enter a number: 5\n",
      "Enter a number: 6\n",
      "Enter a number: -1\n",
      "[1.0, 5.0, 6.0]\n"
     ]
    }
   ],
   "source": [
    "##用list储存数字\n",
    "\n",
    "nums = []\n",
    "x = float(input('Enter a number: '))\n",
    "while x >= 0:\n",
    "    nums.append(x) # nums = nums + [x]\n",
    "    x = float(input('Enter a number: '))\n",
    "    \n",
    "print(nums)"
   ]
  },
  {
   "cell_type": "code",
   "execution_count": 259,
   "id": "ac01671a",
   "metadata": {},
   "outputs": [
    {
     "name": "stdout",
     "output_type": "stream",
     "text": [
      "[1, 1, 2, 3, 4, 5, 9]\n",
      "[9, 5, 4, 3, 2, 1, 1]\n",
      "18\n"
     ]
    }
   ],
   "source": [
    "#正序 and 倒叙（reverse）\n",
    "\n",
    "lst=[3, 1, 4, 1, 5, 9, 2]\n",
    "lst.sort()\n",
    "print(lst)\n",
    "lst.sort(reverse=True)\n",
    "print(lst)\n"
   ]
  },
  {
   "cell_type": "code",
   "execution_count": 258,
   "id": "4043e1fe",
   "metadata": {},
   "outputs": [
    {
     "name": "stdout",
     "output_type": "stream",
     "text": [
      "Enter a number (<Enter> to quit) >> 15\n",
      "Enter a number (<Enter> to quit) >> 1\n",
      "Enter a number (<Enter> to quit) >> 10\n",
      "Enter a number (<Enter> to quit) >> \n"
     ]
    },
    {
     "data": {
      "text/plain": [
       "[15, 1, 10]"
      ]
     },
     "execution_count": 258,
     "metadata": {},
     "output_type": "execute_result"
    }
   ],
   "source": [
    "##将输入多个数字进list的approach：定义成一个函数\n",
    "\n",
    "def getNumbers():\n",
    "    nums = []                                               # start with an empty list  \n",
    "    xStr = input(\"Enter a number (<Enter> to quit) >> \")    # sentinel loop to get numbers\n",
    "    while xStr != \"\":                                      # 进入while\n",
    "        x = eval(xStr)\n",
    "        nums.append(x)\n",
    "        xStr = input(\"Enter a number (<Enter> to quit) >> \")\n",
    "    return nums\n",
    "\n",
    "getNumbers()"
   ]
  },
  {
   "cell_type": "code",
   "execution_count": 34,
   "id": "93f7149c",
   "metadata": {},
   "outputs": [
    {
     "data": {
      "text/plain": [
       "3.2"
      ]
     },
     "execution_count": 34,
     "metadata": {},
     "output_type": "execute_result"
    }
   ],
   "source": [
    "## mean function\n",
    "\n",
    "def mean(nums):\n",
    "    sum = 0.0\n",
    "    for num in nums:\n",
    "        sum = sum + num\n",
    "    return sum / len(nums)\n",
    "\n",
    "atr=[1,2,4,4,5]\n",
    "mean(atr)\n"
   ]
  },
  {
   "cell_type": "code",
   "execution_count": 55,
   "id": "98674bf1",
   "metadata": {},
   "outputs": [
    {
     "name": "stdout",
     "output_type": "stream",
     "text": [
      "Enter a number (<Enter> to quit) >> 1\n",
      "Enter a number (<Enter> to quit) >> 2\n",
      "Enter a number (<Enter> to quit) >> 3\n",
      "Enter a number (<Enter> to quit) >> 4\n",
      "Enter a number (<Enter> to quit) >> \n"
     ]
    },
    {
     "data": {
      "text/plain": [
       "2.5"
      ]
     },
     "execution_count": 55,
     "metadata": {},
     "output_type": "execute_result"
    }
   ],
   "source": [
    "###两个函数的使用：输入数字 + 计算mean\n",
    "\n",
    "def getNumbers():\n",
    "    nums = [] # start with an empty list\n",
    "    # sentinel loop to get numbers\n",
    "    xStr = input(\"Enter a number (<Enter> to quit) >> \")\n",
    "\n",
    "    \n",
    "    ##输入两次 xStr 来进入while\n",
    "    while xStr != \"\":\n",
    "        x = float(xStr)\n",
    "        nums.append(x)\n",
    "        xStr = input(\"Enter a number (<Enter> to quit) >> \")\n",
    "    return nums\n",
    "\n",
    "#############  data=getNumbers()  ####################\n",
    "\n",
    "def mean(nums):\n",
    "    sum = 0.0\n",
    "    for num in nums:\n",
    "        sum = sum + num\n",
    "    return sum / len(nums)\n",
    "\n",
    "############## mean(data) ################"
   ]
  },
  {
   "cell_type": "code",
   "execution_count": 39,
   "id": "2b2129dd",
   "metadata": {},
   "outputs": [
    {
     "data": {
      "text/plain": [
       "6"
      ]
     },
     "execution_count": 39,
     "metadata": {},
     "output_type": "execute_result"
    }
   ],
   "source": [
    "##计算中位数 function\n",
    "def median(nums):\n",
    "    nums.sort()\n",
    "    size = len(nums)\n",
    "    midPos = size // 2\n",
    "    if size % 2 == 0:\n",
    "        median = (nums[midPos] + nums[midPos-1]) / 2\n",
    "    else:\n",
    "        median = nums[midPos]\n",
    "    return median\n",
    "\n",
    "\n",
    "atr=[1,5,23,51,6]\n",
    "median(atr)"
   ]
  },
  {
   "cell_type": "code",
   "execution_count": 17,
   "id": "af61badd",
   "metadata": {},
   "outputs": [
    {
     "name": "stdout",
     "output_type": "stream",
     "text": [
      "Happy birthday to you!\n"
     ]
    }
   ],
   "source": [
    "###定义函数及使用函数\n",
    "\n",
    "\n",
    "def singFred():\n",
    "    happy()\n",
    "    happy()\n",
    "    print(\"Happy birthday, dear Fred...\")\n",
    "\n",
    "happy()\n",
    "\n",
    "\n",
    "\n"
   ]
  },
  {
   "cell_type": "code",
   "execution_count": 23,
   "id": "56a0adb5",
   "metadata": {},
   "outputs": [
    {
     "name": "stdout",
     "output_type": "stream",
     "text": [
      "Happy birthday to you!\n",
      "Happy birthday to you!\n",
      "Happy birthday, dear ALEN.\n"
     ]
    }
   ],
   "source": [
    "###在function 里加参数\n",
    "\n",
    "def happy():\n",
    "    print(\"Happy birthday to you!\")\n",
    "\n",
    "\n",
    "def sing(person):\n",
    "    happy()\n",
    "    happy()\n",
    "    print(\"Happy birthday, dear\", person + \".\")#######逗号加空格\n",
    "sing(\"ALEN\")##########加引号#############\n",
    "#####  Person=\"ALEN\"\n"
   ]
  },
  {
   "cell_type": "code",
   "execution_count": 37,
   "id": "4406315b",
   "metadata": {},
   "outputs": [
    {
     "name": "stdout",
     "output_type": "stream",
     "text": [
      "25\n",
      "5.0\n"
     ]
    }
   ],
   "source": [
    "def squawe(x):\n",
    "    return x*x\n",
    "\n",
    "a=squawe(3.5) + squawe(3)\n",
    "print(squawe(4) + squawe(3))\n",
    "\n",
    "#######引用数学方程\n",
    "import math\n",
    "\n",
    "discRt =math.sqrt(squawe(4) + squawe(3))#########可以复合写####\n",
    "print(discRt)\n",
    "\n",
    "\n",
    "\n"
   ]
  },
  {
   "cell_type": "code",
   "execution_count": 59,
   "id": "4f8c8f4e",
   "metadata": {},
   "outputs": [
    {
     "name": "stdout",
     "output_type": "stream",
     "text": [
      "a\n",
      "b\n",
      "c\n"
     ]
    },
    {
     "data": {
      "text/plain": [
       "(6, -2)"
      ]
     },
     "execution_count": 59,
     "metadata": {},
     "output_type": "execute_result"
    }
   ],
   "source": [
    "#########定义函数里的多重变量\n",
    "\n",
    "def drawBar(window, year, height):\n",
    "    print(window)\n",
    "    print(year)\n",
    "    print(height)\n",
    "    \n",
    "drawBar(\"a\",\"b\",\"c\")\n",
    "\n",
    "def sumDiff(x, y):\n",
    "    sum = x + y\n",
    "    diff = x - y\n",
    "    return sum, diff\n",
    "sumDiff(2,4)"
   ]
  },
  {
   "cell_type": "code",
   "execution_count": 67,
   "id": "92cd1209",
   "metadata": {},
   "outputs": [
    {
     "name": "stdout",
     "output_type": "stream",
     "text": [
      "Enter two numbers (num1, num2)5,6\n",
      "The sum is 11 and the difference is -1\n"
     ]
    }
   ],
   "source": [
    "\n",
    "######\n",
    "\n",
    "def sumDiff(x, y):\n",
    "    sum = x + y\n",
    "    diff = x - y\n",
    "    return sum, diff\n",
    "\n",
    "num1, num2 = eval(input(\"Enter two numbers (num1, num2)\"))\n",
    "\n",
    "s, d = sumDiff (num1, num2)\n",
    "print(\"The sum is\", s, \"and the difference is\", d)"
   ]
  },
  {
   "cell_type": "code",
   "execution_count": 80,
   "id": "06e01c06",
   "metadata": {},
   "outputs": [
    {
     "name": "stdout",
     "output_type": "stream",
     "text": [
      "1000\n"
     ]
    }
   ],
   "source": [
    "###### balance指向的数字的地址被替换,而amount指向的不变即1000.\n",
    "\n",
    "def addInterest(balance, rate):\n",
    "    newBalance = balance * (1 + rate)\n",
    "    balance = newBalance\n",
    "\n",
    "def test():\n",
    "    amount = 1000\n",
    "    rate = 0.05\n",
    "    addInterest(amount, rate)\n",
    "    print (amount)\n",
    "    \n",
    "addInterest(1,1)########现在输出，无关输入的这2个数字\n",
    "test()"
   ]
  },
  {
   "cell_type": "code",
   "execution_count": 78,
   "id": "4fa38ba2",
   "metadata": {},
   "outputs": [
    {
     "name": "stdout",
     "output_type": "stream",
     "text": [
      "[1050.0, 2310.0, 840.0, 378.0]\n"
     ]
    }
   ],
   "source": [
    "#### amount、balance 指向list的id，在改变列表内容时，表内单独数字的地址被替换，而列表id不变、故指向列表的amount、balance不变\n",
    "\n",
    "def addInterest(balances, rate):\n",
    "    for i in range(len(balances)):\n",
    "        balances[i] = balances[i] * (1+rate)\n",
    "\n",
    "def test():\n",
    "    amounts = [1000, 2200, 800, 360]\n",
    "    rate = 0.05\n",
    "    addInterest(amounts,rate)\n",
    "    print(amounts)\n",
    "test()"
   ]
  },
  {
   "cell_type": "code",
   "execution_count": null,
   "id": "c71199d7",
   "metadata": {},
   "outputs": [],
   "source": [
    "########  ppt11  #########  numpy "
   ]
  },
  {
   "cell_type": "code",
   "execution_count": 25,
   "id": "385bc1a3",
   "metadata": {},
   "outputs": [
    {
     "name": "stdout",
     "output_type": "stream",
     "text": [
      "[1 2 3 4 5]\n",
      "1.20.1\n",
      "[[[ 2  4  6]\n",
      "  [ 8 10 12]]\n",
      "\n",
      " [[ 2  4  6]\n",
      "  [ 8 10 12]]]\n",
      "number of dimensions : 5\n"
     ]
    }
   ],
   "source": [
    "######  Lecture-9-2 packing ppt10 <p20 p24>\n",
    "\n",
    "\n",
    "\n",
    "####  numpy can instore array number\n",
    "\n",
    "import numpy\n",
    "arr = numpy.array([1, 2, 3, 4, 5])\n",
    "print(arr)\n",
    "\n",
    "###检查np版本\n",
    "import numpy as np\n",
    "print(np.__version__)\n",
    "\n",
    "###store 3D矩阵\n",
    "import numpy as np\n",
    "arr = np.array([[[1, 2, 3], [4, 5, 6]], [[1, 2, 3], [4, 5, 6]]])\n",
    "print(arr**2)\n",
    "\n",
    "###identify deminsion\n",
    "arr = np.array([1, 2, 3, 4], ndmin=5)\n",
    "print('number of dimensions :', arr.ndim)\n",
    "\n",
    "##……………array 可混合参数类型\n",
    "np.array([2j, 3, 5+6*1j])\n",
    "np.array([1, 2, 3], dtype=float)\n",
    "\n",
    "##查询参数类型\n",
    "np.arr.dtype"
   ]
  },
  {
   "cell_type": "code",
   "execution_count": 58,
   "id": "dd30ce8e",
   "metadata": {},
   "outputs": [
    {
     "ename": "SyntaxError",
     "evalue": "invalid syntax (<ipython-input-58-f55b070f1fe8>, line 16)",
     "output_type": "error",
     "traceback": [
      "\u001b[1;36m  File \u001b[1;32m\"<ipython-input-58-f55b070f1fe8>\"\u001b[1;36m, line \u001b[1;32m16\u001b[0m\n\u001b[1;33m    u - unsigned integer\u001b[0m\n\u001b[1;37m                 ^\u001b[0m\n\u001b[1;31mSyntaxError\u001b[0m\u001b[1;31m:\u001b[0m invalid syntax\n"
     ]
    }
   ],
   "source": [
    "## zero 2行、4列0矩阵；\n",
    "## one为1单位矩阵;\n",
    "## eye为对角线为1的4维正方形矩阵，其余元素为0；\n",
    "## diag 给出正方形对角线元素，其余为0.\n",
    "np.zeros((2,4))\n",
    "np.ones((2,4))\n",
    "np.eye(4)\n",
    "np.diag(np.array[0,2,4])\n",
    "\n",
    "## 随机出3行2列矩阵\n",
    "print(np.random.standard_normal((3,2)))\n",
    "\n",
    "###type in Numpy\n",
    "i - integer\n",
    "b - boolean\n",
    "u - unsigned integer\n",
    "f - float\n",
    "c - complex float\n",
    "m - timedelta\n",
    "M - datetime\n",
    "O - object\n",
    "S - string\n",
    "U - unicode string\n",
    "V - fixed chunk of memory for other type ( void )\n"
   ]
  },
  {
   "cell_type": "code",
   "execution_count": 66,
   "id": "a735b8d4",
   "metadata": {},
   "outputs": [
    {
     "name": "stdout",
     "output_type": "stream",
     "text": [
      "2020-06-15T22:00\n",
      "2021-10-12T11:34:18.227000\n",
      "['2020-02-01' '2020-02-03' '2020-02-05' '2020-02-07' '2020-02-09'\n",
      " '2020-02-11' '2020-02-13' '2020-02-15' '2020-02-17' '2020-02-19'\n",
      " '2020-02-21' '2020-02-23' '2020-02-25' '2020-02-27' '2020-02-29']\n"
     ]
    }
   ],
   "source": [
    "##定义 timedelta64 + 运算\n",
    "\n",
    "import numpy as np\n",
    "print(np.datetime64('2020-06-15T10:00') + np.timedelta64(12, 'h'))\n",
    "print(np.datetime64('2021-10-12T11:34:18.227000'))\n",
    "\n",
    "## 一定要, dtype='datetime64'\n",
    "print(np.arange('2020-02', '2020-03', np.timedelta64(2,'D'), dtype='datetime64'))\n"
   ]
  },
  {
   "cell_type": "code",
   "execution_count": 98,
   "id": "8b6aacc6",
   "metadata": {},
   "outputs": [
    {
     "name": "stdout",
     "output_type": "stream",
     "text": [
      "[2 4]\n",
      "[7 8 9]\n",
      "[2 7]\n",
      "[6 4 2]\n"
     ]
    }
   ],
   "source": [
    "arr = np.array([1, 2, 3, 4, 5, 6, 7])\n",
    "print(arr[1:5:2])\n",
    "\n",
    "arr = np.array([[1, 2, 3, 4, 5], [6, 7, 8, 9, 10]])\n",
    "### 第二行的 2-4\n",
    "print(arr[1, 1:4])\n",
    "\n",
    "### 第二列的 1-3\n",
    "print(arr[0:2,1]) \n",
    "\n"
   ]
  },
  {
   "cell_type": "code",
   "execution_count": 82,
   "id": "367080a2",
   "metadata": {},
   "outputs": [
    {
     "name": "stdout",
     "output_type": "stream",
     "text": [
      "[  6 100]\n"
     ]
    }
   ],
   "source": [
    "####  hint：3-D arr ####\n",
    "\n",
    "## 第一个数组 + 第二个数组、各自第二行第一列的数字\n",
    "arr = np.array([\n",
    "    [[1, 2, 3, 4, 5], [6, 7, 8, 9, 10]],\n",
    "    [[0, 0, 0, 0, 0], [100, 1, 1, 1,1 ]]\n",
    "])\n",
    "\n",
    "print(arr[:,1,0])"
   ]
  },
  {
   "cell_type": "code",
   "execution_count": 24,
   "id": "479a8acc",
   "metadata": {},
   "outputs": [
    {
     "name": "stdout",
     "output_type": "stream",
     "text": [
      "[0 1 1 3 1 5 6 7]\n",
      "[0 1 2 3 4 5 6 7]\n",
      "[0 1 2 1 1 5 6 7]\n",
      "[0 1 2 3 4 5 6 7]\n",
      "None\n",
      "[[  1   2   3   4   5]\n",
      " [  6   7   8   9  10]\n",
      " [  0   0   0   0   0]\n",
      " [  1   1   1   1 100]]\n"
     ]
    }
   ],
   "source": [
    "import numpy as np\n",
    "\n",
    "## use arr2 to change Value in arr1\n",
    "arr1 = np.arange(8)\n",
    "\n",
    "## 两个冒号，第二个冒号代表跳过一个，不加冒号默认为1\n",
    "arr2 = arr1[2::2]\n",
    "arr2[0:2] = 1\n",
    "print(arr1)\n",
    "\n",
    "## copy(): b复制a，改变b不改变a\n",
    "arr1 = np.arange(8)\n",
    "arr3 = arr1.copy()\n",
    "print(arr3)\n",
    "\n",
    "arr3[3:5]=1\n",
    "print(arr3)\n",
    "print(arr1)\n",
    "\n",
    "## sort(axis=? )\n",
    "arr = np.array([\n",
    "    [1, 2, 3, 4, 5], [6, 7, 8, 9, 10],\n",
    "    [0, 0, 0, 0, 0], [100, 1, 1, 1,1]])\n",
    "\n",
    "######### print不行直接输出！##########\n",
    "print(arr.sort(axis=1))\n",
    "\n",
    "arr.sort(axis=1)\n",
    "print(arr)\n"
   ]
  },
  {
   "cell_type": "code",
   "execution_count": 26,
   "id": "605ea0e6",
   "metadata": {},
   "outputs": [
    {
     "name": "stdout",
     "output_type": "stream",
     "text": [
      "[1 3 5]\n",
      "[6 4 2]\n",
      "[8 7 6 5 4 3 2]\n"
     ]
    }
   ],
   "source": [
    "### define selector as a new arr; name arr = a\n",
    "## use a[selector] to print arr 特定位置的 数字\n",
    "\n",
    "import numpy as np\n",
    "\n",
    "a= np.arange(7,0,-1)\n",
    "selector =np.array([1,3,5])\n",
    "\n",
    "print(selector)\n",
    "print(a[selector])\n"
   ]
  },
  {
   "cell_type": "code",
   "execution_count": 28,
   "id": "be6fad4b",
   "metadata": {},
   "outputs": [
    {
     "name": "stdout",
     "output_type": "stream",
     "text": [
      "[8 7 6 5 4 3 2]\n",
      "[5 5 5]\n",
      "[2. 3.]\n",
      "[[1 3 6]\n",
      " [4 7 9]]\n"
     ]
    }
   ],
   "source": [
    "#### arr 运算+-*/ ######\n",
    "##直接运算\n",
    "a= np.arange(7,0,-1)\n",
    "b= a+1\n",
    "print(b)\n",
    "\n",
    "## 0: 行数不变，各列相加 ；[5,5]\n",
    "x = np.array([[1,2,3],[4,3,2]]) \n",
    "print(x.sum(axis=0)) \n",
    "\n",
    "## x.mean(axis=1): 列不变，行的平均值；[1.5, 2.5]\n",
    "print(x.mean(axis=1))\n",
    "\n",
    "## x.sumsum(axis=1)为列不变， 行中 cumulate 前面所有\n",
    "print(x.cumsum(axis=1))"
   ]
  },
  {
   "cell_type": "code",
   "execution_count": null,
   "id": "e5222163",
   "metadata": {},
   "outputs": [],
   "source": [
    "## np.loadtxt()\n",
    "## delimiter 分隔符\n",
    "## usecols 用的列数\n",
    "## unpack 转置：行变列排\n",
    "\n",
    "import numpy as np\n",
    "c, v = np.loadtxt(\"jupyter notebook example/data.csv\", delimiter=\",\", usecols=(6, 7), unpack=True)\n",
    "\n",
    "### Volume Weighted Average Price 用t的交易数量为权重 计算交易价格平均值\n",
    "\n",
    "\n",
    "\n",
    "## TIME Weighted Average Price 用最接近recent time为权重 计算交易价格平均值\n",
    "\n",
    "print(c)\n",
    "print(v)\n",
    "t = np.arange(len(c))\n",
    "twap = np.average(c, weights = t)\n",
    "print(\"twap: \", twap)\n",
    "\n",
    "\n"
   ]
  },
  {
   "cell_type": "code",
   "execution_count": 32,
   "id": "0f64c225",
   "metadata": {},
   "outputs": [
    {
     "ename": "SyntaxError",
     "evalue": "invalid syntax (<ipython-input-32-97c38be8d8d0>, line 26)",
     "output_type": "error",
     "traceback": [
      "\u001b[1;36m  File \u001b[1;32m\"<ipython-input-32-97c38be8d8d0>\"\u001b[1;36m, line \u001b[1;32m26\u001b[0m\n\u001b[1;33m    returns np.diff(c)/c[:-1]  ### not including the last element\u001b[0m\n\u001b[1;37m            ^\u001b[0m\n\u001b[1;31mSyntaxError\u001b[0m\u001b[1;31m:\u001b[0m invalid syntax\n"
     ]
    }
   ],
   "source": [
    "## 从数据中获取weight: Time Weighted Average Price...\n",
    "c, v = np.loadtxt(\"data,csv\", delimiter=\",\")\n",
    "vwap=np.average(c,weights=v)\n",
    "\n",
    "### max打印 最高价\n",
    "print(np.max(x))\n",
    "\n",
    "### ptp function\n",
    "print(np.ptp(x))\n",
    "\n",
    "##diff function\n",
    "\n",
    "\n",
    "## 计算c2-c1/c1, c3-c2/c2...\n",
    "\n",
    "returns np.diff(c)/c[:-1]  ### not including the last element\n",
    "print(\"方差是： \",np.diff(returns))\n",
    "\n",
    "####\n",
    "last_friday = (np.where(dates[first_monday:] ==4))[0][2] + \n",
    "first_Monday\n",
    "print (\"The last Friday index is \", last_friday)\n",
    "weeks_indices = np.arange(first_monday, last_friday + 1)\n",
    "print(\"Weeks indices initial\", weeks_indices)\n",
    "weeks_indices = np.split(weeks_indices, 3)\n",
    "print(\"Weeks indices after split\", weeks_indices)\n",
    "weeksummary = np.apply_along_axis(summarize, 1, weeks_indices, \n",
    "open, high, low, close)\n",
    "print(\"Week summary\\n\", weeksummary)"
   ]
  },
  {
   "cell_type": "code",
   "execution_count": null,
   "id": "ac2c28ab",
   "metadata": {},
   "outputs": [],
   "source": [
    "##########  L-12.##########  pandas "
   ]
  },
  {
   "cell_type": "code",
   "execution_count": 7,
   "id": "0e4e0a23",
   "metadata": {},
   "outputs": [
    {
     "name": "stdout",
     "output_type": "stream",
     "text": [
      "a    1\n",
      "b    3\n",
      "c    4\n",
      "d    5\n",
      "e    6\n",
      "f    7\n",
      "dtype: int32\n",
      "[1 3 4 5 6 7]\n",
      "0    1\n",
      "1    3\n",
      "2    4\n",
      "3    5\n",
      "4    6\n",
      "5    7\n",
      "dtype: int32\n",
      "   0  1  2  3  4  5\n",
      "0  1  3  4  5  6  7\n",
      "1  7  6  5  4  3  2\n",
      "Name          [Tom, Sally, Ben, Sam]\n",
      "Gender    [Male, Female, Male, Male]\n",
      "Age                 [20, 19, 20, 21]\n",
      "dtype: object\n",
      "    Name  Gender  Age\n",
      "0    Tom    Male   20\n",
      "1  Sally  Female   19\n",
      "2    Ben    Male   20\n",
      "3    Sam    Male   21\n"
     ]
    }
   ],
   "source": [
    "### P11. pandas  \n",
    "import pandas\n",
    "import numpy as np\n",
    "\n",
    "a = np.array([1, 3, 4, 5, 6, 7])\n",
    "b = pandas.Series(a,index=['a','b','c','d','e','f'])\n",
    "print(b)\n",
    "print(a)\n",
    "print(pandas.Series(a))\n",
    "\n",
    "a = np.array([[1, 3, 4, 5, 6, 7],[7, 6, 5, 4, 3, 2]])\n",
    "print(pandas.DataFrame(a))\n",
    "####************* Data居然是行！！！排列的****************\n",
    "\n",
    "\n",
    "\n",
    "a = {'Name': ['Tom', 'Sally', 'Ben', 'Sam'],\n",
    "'Gender': ['Male', 'Female', 'Male', 'Male'],'Age': [20, 19, 20, 21]}\n",
    "\n",
    "print(pandas.Series(a))\n",
    "print(pandas.DataFrame(a))\n",
    "\n",
    "### Series() ###\n",
    "### DataFrame() ### 你就想 2D  目录虽多，但有限。肯定是列排index\n",
    "\n"
   ]
  },
  {
   "cell_type": "code",
   "execution_count": 53,
   "id": "a395b5fe",
   "metadata": {},
   "outputs": [
    {
     "name": "stdout",
     "output_type": "stream",
     "text": [
      "       Item 1  Item 2  Item 3  Item 4\n",
      "Day 1       4       4       5       0\n",
      "Day 2       5       3       0       4\n",
      "Day 3       2       5       2       3\n",
      "4\n",
      "       Item 1  Item 2  Item 3  Item 4\n",
      "Day 1       4       4       5       0\n",
      "       Item 1  Item 2  Item 3  Item 4\n",
      "Day 1       4       4       5       0\n",
      "Day 3       2       5       2       3\n"
     ]
    }
   ],
   "source": [
    "import pandas\n",
    "import numpy as np\n",
    "\n",
    "#### setting and selection  ####\n",
    "\n",
    "a = np.array([[4, 4, 5, 0],[5, 3, 0, 4],[2, 5, 2, 3]])\n",
    "df = pandas.DataFrame(a, index=['Day 1', 'Day 2', 'Day 3'],\n",
    "columns=['Item 1', 'Item 2', 'Item 3', 'Item 4'])\n",
    "\n",
    "print (df)\n",
    "print (df['Item 2']['Day 1'])\n",
    "print (df['Item 2'])\n",
    "\n",
    "\n",
    "## BUT???\n",
    "<print(df['Day 1'])> p21\n",
    "<print (df['Item 2'==4])> p24\n",
    "\n",
    "\n",
    "\n",
    "\n",
    "print (df[ (df['Item 2'] > 3) & (df['Item 4'] == 0)])\n",
    "print (df[[True, False, True]] )\n",
    "\n",
    "### if no value ，it can be removed\n",
    "print (df.dropna())\n",
    "print (df.dropna(axis=\"columns\"))\n",
    "         \n",
    "print(df.index)   \n",
    ">Index(['Day 1', 'Day 2', 'Day 3'], dtype='object')         \n",
    "      \n"
   ]
  },
  {
   "cell_type": "code",
   "execution_count": null,
   "id": "e820ec6e",
   "metadata": {},
   "outputs": [],
   "source": [
    "import pandas\n",
    "import numpy as np\n",
    "\n",
    "#### setting and selection  ####\n",
    "\n",
    "a = np.array([[4, 4, 5, 0],[5, 3, 0, 4],[2, 5, 2, 3]])\n",
    "df = pandas.DataFrame(a, index=['Day 1', 'Day 2', 'Day 3'],\n",
    "columns=['Item 1', 'Item 2', 'Item 3', 'Item 4'])\n",
    "\n",
    "print (df)\n",
    "print (df['Item 2']['Day 1'])\n",
    "print (df['Item 2'])\n",
    "\n",
    "#### dame  只能目录？？\n",
    "print(df['Day 1'])\n"
   ]
  },
  {
   "cell_type": "code",
   "execution_count": null,
   "id": "e75000fc",
   "metadata": {},
   "outputs": [],
   "source": [
    "#########  Data Manipulation  SUMMARY ######### \n",
    "\n",
    "###选择 row 2-3~~~~~( 共2行！！)\n",
    "df[1:3]\n",
    "\n",
    "##选择（单列满足条件）的编号key\n",
    "a[<colomn> == <number>]\n",
    "\n",
    "## select（当有列满足条件时）的所有行信息\n",
    "df[df['Item 2'] > 3]\n",
    "\n",
    "## condition (& and )##### (\\ or)\n",
    "df[df['Item 2'] > 3 & 'Item 2'] < 5\n",
    "\n",
    "\n",
    "s[3] = 2;\n",
    "s_2['d'] = 9\n",
    "a.append(b.ignore_index=Ture)\n",
    "\n",
    "### append new data~~~   row/series     column***/DataFrame (by default)\n",
    "df['Item 5'] = [9, 9, 9]\n",
    "\n",
    "### append new DataFrame! : raw*** (by default)\n",
    "df_c = df_a.append(df_b)\n",
    "\n",
    "### drop old data~~~  row/series    column***/DataFrame (by default)\n",
    "s.drop(index=[0, 1, 3])\n",
    "df.drop(index=['Day 2'])\n",
    "\n",
    "### rename\n",
    "s.rename(index={'Day 1': 'D1'})\n",
    "s.rename(column={'Item 1': 'T1'})"
   ]
  },
  {
   "cell_type": "code",
   "execution_count": null,
   "id": "a116ece5",
   "metadata": {},
   "outputs": [],
   "source": [
    "#########  Data Satistic Functions ######### \n",
    "\n",
    "### row by default### \n",
    "\n",
    "## sum\n",
    "df.sum()\n",
    "df.sum(axis='column')\n",
    "\n",
    "count()\n",
    "max()\n",
    "min()\n",
    "\n",
    "shape() # row and column\n",
    "ndim() # number of dimension of the object\n",
    "size() # row * column"
   ]
  },
  {
   "cell_type": "code",
   "execution_count": null,
   "id": "f9cb154a",
   "metadata": {},
   "outputs": [],
   "source": [
    "########## L-13 ###########   creating a fig"
   ]
  },
  {
   "cell_type": "code",
   "execution_count": null,
   "id": "f96309cd",
   "metadata": {},
   "outputs": [],
   "source": [
    "import matplotlib.pyplot as plt\n",
    "fig = plt.figure()\n",
    "fig = plt.figure('Hello World')\n",
    "\n",
    "fig.show()\n",
    "plt.show()"
   ]
  },
  {
   "cell_type": "code",
   "execution_count": null,
   "id": "2ad1661f",
   "metadata": {},
   "outputs": [],
   "source": [
    "###### Identify fig #########\n",
    "\n",
    "#figure的百分比,从figure 10%的位置开始绘制, 宽高是figure的80%\n",
    "[left, bottom, width, height] = 0.1, 0.1, 0.8, 0.8\n",
    "\n",
    "## 分割fig为2行3列\n",
    "fig, ax = plt.subplots(2, 3)\n",
    "\n",
    "import matplotlib.pyplot as plt\n",
    "fig = plt.figure()\n",
    "ax = fig.add_axes([0.2, 0.2, 0.4, 0.4])\n",
    "ax < matplotlib.axes._axes.Axes object at 0x000001DAE675F0C8>\n",
    "\n",
    "plt.show()"
   ]
  },
  {
   "cell_type": "code",
   "execution_count": 1,
   "id": "60a4938e",
   "metadata": {},
   "outputs": [
    {
     "data": {
      "image/png": "[encoded data removed]",
      "text/plain": [
       "<Figure size 432x288 with 1 Axes>"
      ]
     },
     "metadata": {
      "needs_background": "light"
     },
     "output_type": "display_data"
    }
   ],
   "source": [
    "#### W3 School\n",
    "import matplotlib.pyplot as plt\n",
    "import numpy as np\n",
    "\n",
    "xpoints = np.array([0, 6])\n",
    "ypoints = np.array([0, 250])\n",
    "\n",
    "plt.plot(xpoints, ypoints)\n",
    "plt.show()"
   ]
  },
  {
   "cell_type": "code",
   "execution_count": null,
   "id": "ee76f41e",
   "metadata": {},
   "outputs": [],
   "source": [
    "####### Assignment-2 #########"
   ]
  },
  {
   "cell_type": "code",
   "execution_count": null,
   "id": "967d67f3",
   "metadata": {},
   "outputs": [],
   "source": [
    "## Counting The frequency of English alphabet\n",
    "## Assignment 2, Question 1\n",
    "\n",
    "Filepath=input(\"Please input the address of file: \",)\n",
    "print(\"The frequency of English alphabet: \")\n",
    "\n",
    "with open(Filepath,'r') as inputFile: ## auto close\n",
    "    text= inputFile.read()            ## FILE.read() is important\n",
    "    text= text.lower()\n",
    "inputFile.close()                     ## just in case\n",
    "#print(text)\n",
    "\n",
    "for ch in ' ,./-=\\[]{}:\"\"<>?!@#$%^&*()_+':\n",
    "    text=text.replace(ch,' ')\n",
    "words=text.split( )\n",
    "counts={}\n",
    "#print(words)\n",
    "\n",
    "for x in words:                       ## words 是由符号分割成的word list； x为单独word\n",
    "   \n",
    "    for y in list(x):                 ## make ['every word'] into list['alpha']\n",
    "        counts[y]= counts.get(y,0)+1  ## counts.get(y,0)## 是把y中每一个(alpha)计数 放在字典— counts[y]里\n",
    "keys = list(counts.keys())            ## creat a list_keys 储存、并排序整理， 改变keys，会同时改变counts\n",
    "keys.sort()\n",
    "\n",
    "for y in keys:\n",
    "    print(y,\":\",counts[y])\n",
    "    "
   ]
  },
  {
   "cell_type": "code",
   "execution_count": 2,
   "id": "92a3467f",
   "metadata": {},
   "outputs": [
    {
     "name": "stdout",
     "output_type": "stream",
     "text": [
      "<function h.<locals>.<lambda> at 0x000002EB586C7280> <function h.<locals>.<lambda> at 0x000002EB586F50D0> <function h.<locals>.<lambda> at 0x000002EB586F5040> <function h.<locals>.<lambda> at 0x000002EB586F5B80> <function h.<locals>.<lambda> at 0x000002EB586F5AF0> <function h.<locals>.<lambda> at 0x000002EB586F5A60> <function h.<locals>.<lambda> at 0x000002EB586F59D0> "
     ]
    }
   ],
   "source": [
    "def h(string):\n",
    "    T=[]\n",
    "    for i in string:\n",
    "        T.append(lambda i=i:i)\n",
    "    return T\n",
    "for i in h('abcdefg'):\n",
    "    print(i,end=' ')"
   ]
  },
  {
   "cell_type": "code",
   "execution_count": 3,
   "id": "7e6b5e26",
   "metadata": {},
   "outputs": [
    {
     "ename": "NameError",
     "evalue": "name 'm' is not defined",
     "output_type": "error",
     "traceback": [
      "\u001b[1;31m---------------------------------------------------------------------------\u001b[0m",
      "\u001b[1;31mNameError\u001b[0m                                 Traceback (most recent call last)",
      "\u001b[1;32m<ipython-input-3-0aa5dfa3ed31>\u001b[0m in \u001b[0;36m<module>\u001b[1;34m\u001b[0m\n\u001b[0;32m      1\u001b[0m \u001b[0mlst\u001b[0m \u001b[1;33m=\u001b[0m \u001b[1;33m[\u001b[0m\u001b[1;32mlambda\u001b[0m \u001b[0mx\u001b[0m\u001b[1;33m:\u001b[0m \u001b[0mx\u001b[0m\u001b[1;33m*\u001b[0m\u001b[0mi\u001b[0m \u001b[1;32mfor\u001b[0m \u001b[0mi\u001b[0m \u001b[1;32min\u001b[0m \u001b[0mrange\u001b[0m\u001b[1;33m(\u001b[0m\u001b[1;36m4\u001b[0m\u001b[1;33m)\u001b[0m\u001b[1;33m]\u001b[0m\u001b[1;33m\u001b[0m\u001b[1;33m\u001b[0m\u001b[0m\n\u001b[1;32m----> 2\u001b[1;33m \u001b[0mres\u001b[0m \u001b[1;33m=\u001b[0m \u001b[1;33m[\u001b[0m\u001b[0mm\u001b[0m\u001b[1;33m(\u001b[0m\u001b[1;36m2\u001b[0m\u001b[1;33m)\u001b[0m \u001b[1;33m]\u001b[0m\u001b[1;33m\u001b[0m\u001b[1;33m\u001b[0m\u001b[0m\n\u001b[0m\u001b[0;32m      3\u001b[0m \u001b[0mprint\u001b[0m\u001b[1;33m(\u001b[0m\u001b[0mres\u001b[0m\u001b[1;33m)\u001b[0m\u001b[1;33m\u001b[0m\u001b[1;33m\u001b[0m\u001b[0m\n",
      "\u001b[1;31mNameError\u001b[0m: name 'm' is not defined"
     ]
    }
   ],
   "source": [
    "lst = [lambda x: x*i for i in range(4)]  ## 1234\n",
    "res = [m(2) for m in lst] \n",
    "print(res)"
   ]
  },
  {
   "cell_type": "code",
   "execution_count": 14,
   "id": "fa53343b",
   "metadata": {},
   "outputs": [
    {
     "name": "stdout",
     "output_type": "stream",
     "text": [
      "0\n",
      "0\n",
      "0\n"
     ]
    }
   ],
   "source": [
    "x = []\n",
    "for i in range(3):\n",
    "    \n",
    "    def foo(x):\n",
    "        return x*i\n",
    "    x.append(foo)\n",
    "\n",
    "for m in x:\n",
    "    print(m(1))\n"
   ]
  },
  {
   "cell_type": "code",
   "execution_count": null,
   "id": "1b1a98a9",
   "metadata": {},
   "outputs": [],
   "source": []
  }
 ],
 "metadata": {
  "kernelspec": {
   "display_name": "Python 3",
   "language": "python",
   "name": "python3"
  },
  "language_info": {
   "codemirror_mode": {
    "name": "ipython",
    "version": 3
   },
   "file_extension": ".py",
   "mimetype": "text/x-python",
   "name": "python",
   "nbconvert_exporter": "python",
   "pygments_lexer": "ipython3",
   "version": "3.8.8"
  }
 },
 "nbformat": 4,
 "nbformat_minor": 5
}
